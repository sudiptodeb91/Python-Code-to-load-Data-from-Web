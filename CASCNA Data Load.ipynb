{
 "cells": [
  {
   "cell_type": "code",
   "execution_count": 1,
   "id": "72d9ac38",
   "metadata": {},
   "outputs": [],
   "source": [
    "#Importing needed libraries\n",
    "#import cx_Oracle\n",
    "import pandas as pd\n",
    "#import pyodbc\n",
    "#from datetime import datetime, timedelta, date\n",
    "import requests\n",
    "#import json\n",
    "import os\n",
    "from io import StringIO\n",
    "import urllib.request as urllib2\n",
    "\n",
    "import selenium\n",
    "import getpass\n",
    "from selenium.webdriver.support.wait import WebDriverWait\n",
    "from selenium import webdriver\n",
    "from selenium.webdriver.support import expected_conditions as EC\n",
    "from selenium.webdriver.common.by import By \n",
    "\n",
    "import win32com.client\n",
    "\n",
    "#pd.set_option('display.max_columns', 30)\n",
    "#pd.set_option('display.max_rows', 1000)\n",
    "#pd.set_option('display.float_format', '{:.4f}'.format)"
   ]
  },
  {
   "cell_type": "code",
   "execution_count": 2,
   "id": "8fbb310d",
   "metadata": {},
   "outputs": [
    {
     "data": {
      "text/plain": [
       "'s830227'"
      ]
     },
     "execution_count": 2,
     "metadata": {},
     "output_type": "execute_result"
    }
   ],
   "source": [
    "#Detecting user\n",
    "user =  os.getlogin()\n",
    "user"
   ]
  },
  {
   "cell_type": "code",
   "execution_count": 3,
   "id": "c5e76461",
   "metadata": {},
   "outputs": [
    {
     "name": "stdout",
     "output_type": "stream",
     "text": [
      "········\n"
     ]
    }
   ],
   "source": [
    "#Detecting user mail (last user log in into Outlook) + asking DS password\n",
    "outlook = win32com.client.Dispatch('outlook.application')\n",
    "mapi = outlook.GetNamespace(\"MAPI\")\n",
    "\n",
    "for account in mapi.Accounts:\n",
    "    email_account = account.DeliveryStore.DisplayName\n",
    "email_account\n",
    "mail_password = getpass.getpass()"
   ]
  },
  {
   "cell_type": "code",
   "execution_count": 4,
   "id": "b87299df",
   "metadata": {},
   "outputs": [],
   "source": [
    "#Paths\n",
    "VaR = \"C:\\\\Users\\\\\" + user + \"\\\\Cargill Inc\\\\RMG Risk Engine - CASCNA Data\\\\CASC_VaR_SD.csv\"\n",
    "VaR_TC = \"C:\\\\Users\\\\\" + user + \"\\\\Cargill Inc\\\\RMG Risk Engine - CASCNA Data\\\\CASC_VaR_SD_TC.csv\"\n",
    "VaR_II = \"C:\\\\Users\\\\\" + user + \"\\\\Cargill Inc\\\\RMG Risk Engine - CASCNA Data\\\\CASC_VaR-II_SD.csv\"\n",
    "VaR_Limit = \"C:\\\\Users\\\\\" + user + \"\\\\Cargill Inc\\\\RMG Risk Engine - CASCNA Data\\\\CASC_VaR Limit_SD.csv\"\n",
    "Drawdown_PnL_TC = \"C:\\\\Users\\\\\" + user + \"\\\\Cargill Inc\\\\RMG Risk Engine - CASCNA Data\\\\CASC_Drawdown PnL_SD_TC.csv\"\n",
    "Drawdown_VaR = \"C:\\\\Users\\\\\" + user + \"\\\\Cargill Inc\\\\RMG Risk Engine - CASCNA Data\\\\CASC_Drawdown VaR_SD.csv\"\n",
    "Drawdown_PnL = \"C:\\\\Users\\\\\" + user + \"\\\\Cargill Inc\\\\RMG Risk Engine - CASCNA Data\\\\CASC_Drawdown PnL_SD.csv\"\n",
    "Drawdown_and_Drawdown_Limit_TC = \"C:\\\\Users\\\\\" + user + \"\\\\Cargill Inc\\\\RMG Risk Engine - CASCNA Data\\\\CASC_Drawdown and Drawdown Limit_SD_TC.csv\"\n",
    "VaR_Enterprise = \"C:\\\\Users\\\\\" + user + \"\\\\Cargill Inc\\\\RMG Risk Engine - CASCNA Data\\\\CASC_VaR Enterprise_SD.csv\"\n",
    "Drawdown_Enterprise_TC = \"C:\\\\Users\\\\\" + user + \"\\\\Cargill Inc\\\\RMG Risk Engine - CASCNA Data\\\\CASC_Drawdown Enterprise_SD_TC.csv\"\n",
    "Stress_Enterprise = \"C:\\\\Users\\\\\" + user + \"\\\\Cargill Inc\\\\RMG Risk Engine - CASCNA Data\\\\CASC_Stress Enterprise_SD.csv\"\n",
    "PnL_Flag_Enterprise_TC = \"C:\\\\Users\\\\\" + user + \"\\\\Cargill Inc\\\\RMG Risk Engine - CASCNA Data\\\\CASC_PnL Flag Enterprise_SD_TC.csv\"\n",
    "VaR_Streams_Enterprise = \"C:\\\\Users\\\\\" + user + \"\\\\Cargill Inc\\\\RMG Risk Engine - CASCNA Data\\\\CASC_VaR Streams Enterprise_SD.csv\"\n",
    "Option_Sensitivity = \"C:\\\\Users\\\\\" + user + \"\\\\Cargill Inc\\\\RMG Risk Engine - CASCNA Data\\\\CASC_Option Sensitivity_SD.csv\"\n",
    "CASC_1 = \"C:\\\\Users\\\\\" + user + \"\\\\Cargill Inc\\\\RMG Risk Engine - CASCNA Data\\\\CASC-1.csv\"\n",
    "CASC_2 = \"C:\\\\Users\\\\\" + user + \"\\\\Cargill Inc\\\\RMG Risk Engine - CASCNA Data\\\\CASC-2.csv\"\n",
    "CASC_3 = \"C:\\\\Users\\\\\" + user + \"\\\\Cargill Inc\\\\RMG Risk Engine - CASCNA Data\\\\CASC-3.csv\"\n",
    "CASC_4 = \"C:\\\\Users\\\\\" + user + \"\\\\Cargill Inc\\\\RMG Risk Engine - CASCNA Data\\\\CASC-4.csv\"\n",
    "CASC_5 = \"C:\\\\Users\\\\\" + user + \"\\\\Cargill Inc\\\\RMG Risk Engine - CASCNA Data\\\\CASC-5.csv\"\n"
   ]
  },
  {
   "cell_type": "code",
   "execution_count": 5,
   "id": "a77faba2",
   "metadata": {},
   "outputs": [
    {
     "name": "stdout",
     "output_type": "stream",
     "text": [
      "Microsoft Log In\n",
      "Authorizing\n",
      "Authorized\n",
      "Token acquired\n",
      "eyJhbGciOiJSUzI1NiIsImtpZCI6IkJEQTFCODVBMzBCNTdDQjc3OEFBODE5NDQ5NUYzMjIxRDhFQjdGRkUiLCJ0eXAiOiJKV1QiLCJ4NXQiOiJ2YUc0V2pDMWZMZDRxb0dVU1Y4eUlkanJmXzQifQ.eyJuYmYiOjE2NTgwNzA3NDQsImV4cCI6MTY1ODA3NDM0NCwiaXNzIjoiaHR0cHM6Ly9jYXJnaWxsLXByb2QtYWVyLmZpc2dsb2JhbC5jb20vYWRhcHRpdmF1dGhlbnRpY2F0aW9uc2VydmljZSIsImF1ZCI6WyJodHRwczovL2NhcmdpbGwtcHJvZC1hZXIuZmlzZ2xvYmFsLmNvbS9hZGFwdGl2YXV0aGVudGljYXRpb25zZXJ2aWNlL3Jlc291cmNlcyIsImFwaSJdLCJjbGllbnRfaWQiOiJDYXJnaWxsU0FNTCIsInN1YiI6IlNVRElQVE9fREVCQENSR0wtVEhJUkRQQVJUWS5DT00iLCJhdXRoX3RpbWUiOjE2NTgwNzA3NDIsImlkcCI6Imh0dHBzOi8vc3RzLndpbmRvd3MubmV0LzU3MzY4YzIxLWI4Y2YtNDJjZi1iZDBiLTQzZWNkNGJjNjJhZS8iLCJzY29wZSI6WyJvcGVuaWQiLCJwcm9maWxlIiwiYXBpIiwib2ZmbGluZV9hY2Nlc3MiXX0.I4mw2SnB_LCcl8-YtOuZNaX4AMDRTus5b_7m7_m9MjkP_BfcZ42ICVDwmdoOPSGIo0k3aa4oyHk9j_5YRvOIO1dy2higenGesFGQbU1E0vP_RhiNgWDdoueZ0TMowhCf0PSl9Z1pqPoim9fPdGJa_2XvTo6uuelWDlKTprVMaWYYMzPbdeB4Vu7CIrqHd6QlUWny9ks4ClptUJxNAd-IpuE5p21K59xZq3MzYMPJzAzCbwL7mozzR86PwYFOJWgtjcntfF9jdPFxFj4C60-K-Y1kfqDIr1pwzu-mcA5UX6M52QRzQBWyFleS3WwkvVafgvp12p1FQ42uH0Y-VLFpZA\n",
      "Closing Chrome\n",
      "Chrome Close\n"
     ]
    }
   ],
   "source": [
    "#Open Chrome and log in into Risk Engine to extract token\n",
    "\n",
    "def login(user, passwd):\n",
    "    #Ids of the buttons userName, Password, Next button\n",
    "    un_field = (By.ID, \"i0116\")\n",
    "    pw_field = (By.ID, \"i0118\")\n",
    "    next_button = (By.ID, \"idSIButton9\")\n",
    "\n",
    "    #Wait till the userName field is available then send the userName\n",
    "    WebDriverWait(driver, 20).until(EC.presence_of_element_located(un_field)).send_keys(user)\n",
    "\n",
    "    #click on the Next button\n",
    "    WebDriverWait(driver, 20).until(EC.element_to_be_clickable(next_button)).click()\n",
    "\n",
    "    #Wait till the userName field is available then send the userName\n",
    "    WebDriverWait(driver, 20).until(EC.element_to_be_clickable(pw_field)).send_keys(passwd)\n",
    "\n",
    "    #click on the Login button, has the same ID as the next button.\n",
    "    WebDriverWait(driver, 20).until(EC.element_to_be_clickable(next_button)).click()\n",
    "\n",
    "    #click on the Login button, has the same ID as the next button.\n",
    "    WebDriverWait(driver, 20).until(EC.element_to_be_clickable(next_button)).click()\n",
    "    \n",
    "    #Wait till the url is the dashboard\n",
    "    WebDriverWait(driver, 20).until(EC.url_to_be(\"https://cargill-prod-aer.fisglobal.com/riskui/#/dashboard/home\"))\n",
    "    return driver\n",
    "\n",
    "driver = webdriver.Chrome()\n",
    "driver.get('https://cargill-prod-aer.fisglobal.com/riskui')\n",
    "page = driver.page_source\n",
    "print(\"Microsoft Log In\")\n",
    "wait = WebDriverWait(driver, 10000).until(EC.url_contains(\"https://login.microsoftonline.com/\"))\n",
    "try:\n",
    "    print('Authorizing')\n",
    "    login(email_account, mail_password)\n",
    "except Exception as error:\n",
    "    print('Error', error)\n",
    "else:\n",
    "    print('Authorized')\n",
    "token = driver.execute_script(\"return window.sessionStorage.getItem('access_token');\")\n",
    "print(\"Token acquired\")\n",
    "print(token)\n",
    "print('Closing Chrome')\n",
    "driver.close()\n",
    "print('Chrome Close')"
   ]
  },
  {
   "cell_type": "code",
   "execution_count": 6,
   "id": "38c41622",
   "metadata": {},
   "outputs": [],
   "source": [
    "#Queries needed \n",
    "\n",
    "CASCNA_queries = ['CASC_VaR_SD','CASC_VaR_SD_TC','CASC_VaR-II_SD','CASC_VaR Limit_SD','CASC_Drawdown PnL_SD_TC',\n",
    "'CASC_Drawdown VaR_SD','CASC_Drawdown PnL_SD','CASC_Drawdown and Drawdown Limit_SD_TC','CASC_VaR Enterprise_SD',\n",
    "'CASC_Drawdown Enterprise_SD_TC','CASC_Stress Enterprise_SD','CASC_PnL Flag Enterprise_SD_TC','CASC_VaR Streams Enterprise_SD',\n",
    "'CASC_Option Sensitivity_SD','CASC-1','CASC-2','CASC-3','CASC-4','CASC-5']\n",
    "\n",
    "queries = CASCNA_queries"
   ]
  },
  {
   "cell_type": "code",
   "execution_count": 7,
   "id": "00cb6a4b",
   "metadata": {},
   "outputs": [
    {
     "name": "stdout",
     "output_type": "stream",
     "text": [
      "Server status:CASC_VaR_SD 200\n",
      "Server status:CASC_VaR_SD_TC 200\n",
      "Server status:CASC_VaR-II_SD 200\n",
      "Server status:CASC_VaR Limit_SD 200\n",
      "Server status:CASC_Drawdown PnL_SD_TC 200\n",
      "Server status:CASC_Drawdown VaR_SD 200\n",
      "Server status:CASC_Drawdown PnL_SD 200\n",
      "Server status:CASC_Drawdown and Drawdown Limit_SD_TC 200\n",
      "Server status:CASC_VaR Enterprise_SD 200\n",
      "Server status:CASC_Drawdown Enterprise_SD_TC 200\n",
      "Server status:CASC_Stress Enterprise_SD 200\n",
      "Server status:CASC_PnL Flag Enterprise_SD_TC 200\n",
      "Server status:CASC_VaR Streams Enterprise_SD 200\n",
      "Server status:CASC_Option Sensitivity_SD 200\n",
      "Server status:CASC-1 200\n",
      "Server status:CASC-2 200\n",
      "Server status:CASC-3 200\n",
      "Server status:CASC-4 200\n",
      "Server status:CASC-5 200\n"
     ]
    }
   ],
   "source": [
    "#Download one by one the Queries and put the data into a df\n",
    "dict_df = {}\n",
    "\n",
    "for queries_names in queries:\n",
    "    url_1 = \"https://cargill-prod-aer.fisglobal.com//\"\n",
    "    # url_1 = \"https://cargill-uat-aer.fisglobal.com//\"\n",
    "    url_2 = '/AdaptivFusionInvestigationService/api/Calculations/RiskService/Calculate/Results/{}'.format(queries_names)\n",
    "    myUrl = url_1 + url_2\n",
    "    head = {'Authorization': 'Bearer {}'.format(token)}\n",
    "\n",
    "    response = requests.get(myUrl, headers=head, verify=True)\n",
    "    #print('Server status :',response.status_code)\n",
    "    print(f'Server status:{queries_names} {response.status_code}')\n",
    "    \n",
    "    result = str(response.content, 'utf-8')\n",
    "    data = StringIO(result)\n",
    "    data_df = pd.read_csv(data)\n",
    "     \n",
    "    dict_df[queries_names] = data_df"
   ]
  },
  {
   "cell_type": "code",
   "execution_count": 9,
   "id": "136cd91a",
   "metadata": {},
   "outputs": [
    {
     "name": "stdout",
     "output_type": "stream",
     "text": [
      "VaR Saved\n"
     ]
    }
   ],
   "source": [
    "#Saving VaR df as .csv file\n",
    "var = dict_df['CASC_VaR_SD']\n",
    "var.to_csv(VaR, index=False)\n",
    "print('VaR Saved')"
   ]
  },
  {
   "cell_type": "code",
   "execution_count": 10,
   "id": "52eefc88",
   "metadata": {},
   "outputs": [
    {
     "name": "stdout",
     "output_type": "stream",
     "text": [
      "VaR TC Saved\n"
     ]
    }
   ],
   "source": [
    "#Saving VaR TC df as .csv file\n",
    "var_tc = dict_df['CASC_VaR_SD_TC']\n",
    "var_tc.to_csv(VaR_TC, index=False)\n",
    "print('VaR TC Saved')"
   ]
  },
  {
   "cell_type": "code",
   "execution_count": 11,
   "id": "5c51f2d3",
   "metadata": {},
   "outputs": [
    {
     "name": "stdout",
     "output_type": "stream",
     "text": [
      "VaR-II Saved\n"
     ]
    }
   ],
   "source": [
    "#Saving VaR-II df as .csv file\n",
    "var_II = dict_df['CASC_VaR-II_SD']\n",
    "var_II.to_csv(VaR_II, index=False)\n",
    "print('VaR-II Saved')"
   ]
  },
  {
   "cell_type": "code",
   "execution_count": 12,
   "id": "040f2a17",
   "metadata": {},
   "outputs": [
    {
     "name": "stdout",
     "output_type": "stream",
     "text": [
      "VaR Limit Saved\n"
     ]
    }
   ],
   "source": [
    "#Saving VaR Limit df as .csv file\n",
    "var_limit = dict_df['CASC_VaR Limit_SD']\n",
    "var_limit.to_csv(VaR_Limit, index=False)\n",
    "print('VaR Limit Saved')"
   ]
  },
  {
   "cell_type": "code",
   "execution_count": 13,
   "id": "225492bf",
   "metadata": {},
   "outputs": [
    {
     "name": "stdout",
     "output_type": "stream",
     "text": [
      "Drawdown PnL TC Saved\n"
     ]
    }
   ],
   "source": [
    "#Saving Drawdown PnL TC df as .csv file\n",
    "drawdown_pnl_tc = dict_df['CASC_Drawdown PnL_SD_TC']\n",
    "drawdown_pnl_tc.to_csv(Drawdown_PnL_TC, index=False)\n",
    "print('Drawdown PnL TC Saved')"
   ]
  },
  {
   "cell_type": "code",
   "execution_count": 14,
   "id": "74cd91f5",
   "metadata": {},
   "outputs": [
    {
     "name": "stdout",
     "output_type": "stream",
     "text": [
      "Drawdown VaR Saved\n"
     ]
    }
   ],
   "source": [
    "#Saving Drawdown VaR df as .csv file\n",
    "drawdown_var = dict_df['CASC_Drawdown VaR_SD']\n",
    "drawdown_var.to_csv(Drawdown_VaR, index=False)\n",
    "print('Drawdown VaR Saved')"
   ]
  },
  {
   "cell_type": "code",
   "execution_count": 15,
   "id": "f56be863",
   "metadata": {},
   "outputs": [
    {
     "name": "stdout",
     "output_type": "stream",
     "text": [
      "Drawdown PnL Saved\n"
     ]
    }
   ],
   "source": [
    "#Saving Drawdown PnL df as .csv file\n",
    "drawdown_pnl = dict_df['CASC_Drawdown PnL_SD']\n",
    "drawdown_pnl.to_csv(Drawdown_PnL, index=False)\n",
    "print('Drawdown PnL Saved')"
   ]
  },
  {
   "cell_type": "code",
   "execution_count": 16,
   "id": "3d3ce333",
   "metadata": {},
   "outputs": [
    {
     "name": "stdout",
     "output_type": "stream",
     "text": [
      "Drawdown and Drawdown Limit TC Saved\n"
     ]
    }
   ],
   "source": [
    "#Saving Drawdown and Drawdown Limit TC df as .csv file\n",
    "drawdown_and_drawdown_limit_tc = dict_df['CASC_Drawdown and Drawdown Limit_SD_TC']\n",
    "drawdown_and_drawdown_limit_tc.to_csv(Drawdown_and_Drawdown_Limit_TC, index=False)\n",
    "print('Drawdown and Drawdown Limit TC Saved')"
   ]
  },
  {
   "cell_type": "code",
   "execution_count": 17,
   "id": "e0acae44",
   "metadata": {},
   "outputs": [
    {
     "name": "stdout",
     "output_type": "stream",
     "text": [
      "VaR Enterprise Saved\n"
     ]
    }
   ],
   "source": [
    "#Saving VaR Enterprise df as .csv file\n",
    "var_enterprise = dict_df['CASC_VaR Enterprise_SD']\n",
    "var_enterprise.to_csv(VaR_Enterprise, index=False)\n",
    "print('VaR Enterprise Saved')"
   ]
  },
  {
   "cell_type": "code",
   "execution_count": 18,
   "id": "29ea6c49",
   "metadata": {},
   "outputs": [
    {
     "name": "stdout",
     "output_type": "stream",
     "text": [
      "Drawdown Enterprise TC Saved\n"
     ]
    }
   ],
   "source": [
    "#Saving Drawdown Enterprise df as .csv file\n",
    "drawdown_enterprise_tc = dict_df['CASC_Drawdown Enterprise_SD_TC']\n",
    "drawdown_enterprise_tc.to_csv(Drawdown_Enterprise_TC, index=False)\n",
    "print('Drawdown Enterprise TC Saved')"
   ]
  },
  {
   "cell_type": "code",
   "execution_count": 19,
   "id": "bb708655",
   "metadata": {},
   "outputs": [
    {
     "name": "stdout",
     "output_type": "stream",
     "text": [
      "Stress Enterprise Saved\n"
     ]
    }
   ],
   "source": [
    "#Saving Stress Enterprise df as .csv file\n",
    "stress_enterprise = dict_df['CASC_Stress Enterprise_SD']\n",
    "stress_enterprise.to_csv(Stress_Enterprise, index=False)\n",
    "print('Stress Enterprise Saved')"
   ]
  },
  {
   "cell_type": "code",
   "execution_count": 20,
   "id": "e11e48a2",
   "metadata": {},
   "outputs": [
    {
     "name": "stdout",
     "output_type": "stream",
     "text": [
      "PnL Flag Enterprise TC Saved\n"
     ]
    }
   ],
   "source": [
    "#Saving PnL Flag Enterprise df as .csv file\n",
    "pnl_flag_enterprise_tc = dict_df['CASC_PnL Flag Enterprise_SD_TC']\n",
    "pnl_flag_enterprise_tc.to_csv(PnL_Flag_Enterprise_TC, index=False)\n",
    "print('PnL Flag Enterprise TC Saved')"
   ]
  },
  {
   "cell_type": "code",
   "execution_count": 21,
   "id": "617eaf30",
   "metadata": {},
   "outputs": [
    {
     "name": "stdout",
     "output_type": "stream",
     "text": [
      "VaR Streams Enterprise Saved\n"
     ]
    }
   ],
   "source": [
    "#Saving VaR Streams Enterprise df as .csv file\n",
    "var_streams_enterprise = dict_df['CASC_VaR Streams Enterprise_SD']\n",
    "var_streams_enterprise.to_csv(VaR_Streams_Enterprise, index=False)\n",
    "print('VaR Streams Enterprise Saved')"
   ]
  },
  {
   "cell_type": "code",
   "execution_count": 22,
   "id": "f3cd1764",
   "metadata": {},
   "outputs": [
    {
     "name": "stdout",
     "output_type": "stream",
     "text": [
      "Option Sensitivity Saved\n"
     ]
    }
   ],
   "source": [
    "#Saving Option Sensitivity df as .csv file\n",
    "option_sensitivity = dict_df['CASC_Option Sensitivity_SD']\n",
    "option_sensitivity.to_csv(Option_Sensitivity, index=False)\n",
    "print('Option Sensitivity Saved')"
   ]
  },
  {
   "cell_type": "code",
   "execution_count": 28,
   "id": "571ba190",
   "metadata": {},
   "outputs": [
    {
     "name": "stdout",
     "output_type": "stream",
     "text": [
      "CASC-1 Saved\n"
     ]
    }
   ],
   "source": [
    "#Saving CASC-1 df as .csv file\n",
    "casc_1 = dict_df['CASC-1']\n",
    "casc_1.to_csv(CASC_1, index=False)\n",
    "print('CASC-1 Saved')"
   ]
  },
  {
   "cell_type": "code",
   "execution_count": 24,
   "id": "0ec19fed",
   "metadata": {},
   "outputs": [
    {
     "name": "stdout",
     "output_type": "stream",
     "text": [
      "CASC-2 Saved\n"
     ]
    }
   ],
   "source": [
    "#Saving CASC-2 df as .csv file\n",
    "casc_2 = dict_df['CASC-2']\n",
    "casc_2.to_csv(CASC_2, index=False)\n",
    "print('CASC-2 Saved')"
   ]
  },
  {
   "cell_type": "code",
   "execution_count": 25,
   "id": "0f4f9235",
   "metadata": {},
   "outputs": [
    {
     "name": "stdout",
     "output_type": "stream",
     "text": [
      "CASC-3 Saved\n"
     ]
    }
   ],
   "source": [
    "#Saving CASC-3 df as .csv file\n",
    "casc_3 = dict_df['CASC-3']\n",
    "casc_3.to_csv(CASC_3, index=False)\n",
    "print('CASC-3 Saved')"
   ]
  },
  {
   "cell_type": "code",
   "execution_count": 26,
   "id": "81789042",
   "metadata": {},
   "outputs": [
    {
     "name": "stdout",
     "output_type": "stream",
     "text": [
      "CASC-4 Saved\n"
     ]
    }
   ],
   "source": [
    "#Saving CASC-4 df as .csv file\n",
    "casc_4 = dict_df['CASC-4']\n",
    "casc_4.to_csv(CASC_4, index=False)\n",
    "print('CASC-4 Saved')"
   ]
  },
  {
   "cell_type": "code",
   "execution_count": 27,
   "id": "3b13243d",
   "metadata": {},
   "outputs": [
    {
     "name": "stdout",
     "output_type": "stream",
     "text": [
      "CASC-5 Saved\n"
     ]
    }
   ],
   "source": [
    "#Saving CASC-5 df as .csv file\n",
    "casc_5 = dict_df['CASC-5']\n",
    "casc_5.to_csv(CASC_5, index=False)\n",
    "print('CASC-5 Saved')"
   ]
  },
  {
   "cell_type": "code",
   "execution_count": null,
   "id": "1e6bead8",
   "metadata": {},
   "outputs": [],
   "source": []
  }
 ],
 "metadata": {
  "kernelspec": {
   "display_name": "Python 3",
   "language": "python",
   "name": "python3"
  },
  "language_info": {
   "codemirror_mode": {
    "name": "ipython",
    "version": 3
   },
   "file_extension": ".py",
   "mimetype": "text/x-python",
   "name": "python",
   "nbconvert_exporter": "python",
   "pygments_lexer": "ipython3",
   "version": "3.8.8"
  }
 },
 "nbformat": 4,
 "nbformat_minor": 5
}
