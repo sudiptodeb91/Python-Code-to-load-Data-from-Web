{
 "cells": [
  {
   "cell_type": "code",
   "execution_count": 17,
   "id": "0c959349",
   "metadata": {},
   "outputs": [],
   "source": [
    "#Importing needed libraries\n",
    "#import cx_Oracle\n",
    "import pandas as pd\n",
    "#import pyodbc\n",
    "#from datetime import datetime, timedelta, date\n",
    "import requests\n",
    "#import json\n",
    "import os\n",
    "from io import StringIO\n",
    "import urllib.request as urllib2\n",
    "\n",
    "import selenium\n",
    "import getpass\n",
    "from selenium.webdriver.support.wait import WebDriverWait\n",
    "from selenium import webdriver\n",
    "from selenium.webdriver.support import expected_conditions as EC\n",
    "from selenium.webdriver.common.by import By \n",
    "\n",
    "import win32com.client\n",
    "\n",
    "#pd.set_option('display.max_columns', 30)\n",
    "#pd.set_option('display.max_rows', 1000)\n",
    "#pd.set_option('display.float_format', '{:.4f}'.format)"
   ]
  },
  {
   "cell_type": "code",
   "execution_count": 18,
   "id": "bb4d6476",
   "metadata": {},
   "outputs": [
    {
     "data": {
      "text/plain": [
       "'s830227'"
      ]
     },
     "execution_count": 18,
     "metadata": {},
     "output_type": "execute_result"
    }
   ],
   "source": [
    "#Detecting user\n",
    "user =  os.getlogin()\n",
    "user"
   ]
  },
  {
   "cell_type": "code",
   "execution_count": 19,
   "id": "77c34fbe",
   "metadata": {},
   "outputs": [
    {
     "name": "stdout",
     "output_type": "stream",
     "text": [
      "········\n"
     ]
    }
   ],
   "source": [
    "#Detecting user mail (last user log in into Outlook) + asking DS password\n",
    "outlook = win32com.client.Dispatch('outlook.application')\n",
    "mapi = outlook.GetNamespace(\"MAPI\")\n",
    "\n",
    "for account in mapi.Accounts:\n",
    "    email_account = account.DeliveryStore.DisplayName\n",
    "email_account\n",
    "mail_password = getpass.getpass()"
   ]
  },
  {
   "cell_type": "code",
   "execution_count": 20,
   "id": "dff14636",
   "metadata": {},
   "outputs": [],
   "source": [
    "#Paths\n",
    "Dollar_Exposure_TC = \"C:\\\\Users\\\\\" + user + \"\\\\Cargill Inc\\\\RMG Risk Engine - Documents\\\\General\\\\040_Design\\\\040 Reporting\\\\Common Report Folder\\\\040 Queries\\\\CSST_Dollar Exposure_SD_TC.csv\"\n",
    "PnL_TC = \"C:\\\\Users\\\\\" + user + \"\\\\Cargill Inc\\\\RMG Risk Engine - Documents\\\\General\\\\040_Design\\\\040 Reporting\\\\Common Report Folder\\\\040 Queries\\\\CSST_PnL_SD_TC.csv\"\n"
   ]
  },
  {
   "cell_type": "code",
   "execution_count": 21,
   "id": "d544304f",
   "metadata": {},
   "outputs": [
    {
     "name": "stdout",
     "output_type": "stream",
     "text": [
      "Microsoft Log In\n",
      "Authorizing\n",
      "Authorized\n",
      "Token acquired\n",
      "eyJhbGciOiJSUzI1NiIsImtpZCI6IkJEQTFCODVBMzBCNTdDQjc3OEFBODE5NDQ5NUYzMjIxRDhFQjdGRkUiLCJ0eXAiOiJKV1QiLCJ4NXQiOiJ2YUc0V2pDMWZMZDRxb0dVU1Y4eUlkanJmXzQifQ.eyJuYmYiOjE2NTY2NTk5MjYsImV4cCI6MTY1NjY2MzUyNiwiaXNzIjoiaHR0cHM6Ly9jYXJnaWxsLXByb2QtYWVyLmZpc2dsb2JhbC5jb20vYWRhcHRpdmF1dGhlbnRpY2F0aW9uc2VydmljZSIsImF1ZCI6WyJodHRwczovL2NhcmdpbGwtcHJvZC1hZXIuZmlzZ2xvYmFsLmNvbS9hZGFwdGl2YXV0aGVudGljYXRpb25zZXJ2aWNlL3Jlc291cmNlcyIsImFwaSJdLCJjbGllbnRfaWQiOiJDYXJnaWxsU0FNTCIsInN1YiI6IlNVRElQVE9fREVCQENSR0wtVEhJUkRQQVJUWS5DT00iLCJhdXRoX3RpbWUiOjE2NTY2NTk5MjQsImlkcCI6Imh0dHBzOi8vc3RzLndpbmRvd3MubmV0LzU3MzY4YzIxLWI4Y2YtNDJjZi1iZDBiLTQzZWNkNGJjNjJhZS8iLCJzY29wZSI6WyJvcGVuaWQiLCJwcm9maWxlIiwiYXBpIiwib2ZmbGluZV9hY2Nlc3MiXX0.jsGt7nqe1Jae4FgtX68o3ryz74mEyKcoYOINYo6Z790OhkgOGBSSJMcKPfh8kGScIF28GLLTYtSSppoqGUZwarYmW5G8lslo8qAeeJ1IXW_h7wjmYUjoBq6-gWzxLxZt63vXo68O2C22V-2lXmzTPPBltwIapsw4BUo-NFDaiv-RHUPNSUw7rcPNiEN6BLZypii8CiGVhlhqVVAq7McJckXUdlaTX4G-6LA7bDi5L79_QjH9Z65gRdA3R457Bj0o8gJy2jy-J1hIqU9uDZXvtKn3-h0M54-zaiIau0ORb3c66R4hscSJ9PkxP8NMDp-C0kyGxLWECV1i8-mA1DaQ2Q\n",
      "Closing Chrome\n",
      "Chrome Close\n"
     ]
    }
   ],
   "source": [
    "#Open Chrome and log in into Risk Engine to extract token\n",
    "\n",
    "def login(user, passwd):\n",
    "    #Ids of the buttons userName, Password, Next button\n",
    "    un_field = (By.ID, \"i0116\")\n",
    "    pw_field = (By.ID, \"i0118\")\n",
    "    next_button = (By.ID, \"idSIButton9\")\n",
    "\n",
    "    #Wait till the userName field is available then send the userName\n",
    "    WebDriverWait(driver, 20).until(EC.presence_of_element_located(un_field)).send_keys(user)\n",
    "\n",
    "    #click on the Next button\n",
    "    WebDriverWait(driver, 20).until(EC.element_to_be_clickable(next_button)).click()\n",
    "\n",
    "    #Wait till the userName field is available then send the userName\n",
    "    WebDriverWait(driver, 20).until(EC.element_to_be_clickable(pw_field)).send_keys(passwd)\n",
    "\n",
    "    #click on the Login button, has the same ID as the next button.\n",
    "    WebDriverWait(driver, 20).until(EC.element_to_be_clickable(next_button)).click()\n",
    "\n",
    "    #click on the Login button, has the same ID as the next button.\n",
    "    WebDriverWait(driver, 20).until(EC.element_to_be_clickable(next_button)).click()\n",
    "    \n",
    "    #Wait till the url is the dashboard\n",
    "    WebDriverWait(driver, 20).until(EC.url_to_be(\"https://cargill-prod-aer.fisglobal.com/riskui/#/dashboard/home\"))\n",
    "    return driver\n",
    "\n",
    "driver = webdriver.Chrome()\n",
    "driver.get('https://cargill-prod-aer.fisglobal.com/riskui')\n",
    "page = driver.page_source\n",
    "print(\"Microsoft Log In\")\n",
    "wait = WebDriverWait(driver, 10000).until(EC.url_contains(\"https://login.microsoftonline.com/\"))\n",
    "try:\n",
    "    print('Authorizing')\n",
    "    login(email_account, mail_password)\n",
    "except Exception as error:\n",
    "    print('Error', error)\n",
    "else:\n",
    "    print('Authorized')\n",
    "token = driver.execute_script(\"return window.sessionStorage.getItem('access_token');\")\n",
    "print(\"Token acquired\")\n",
    "print(token)\n",
    "print('Closing Chrome')\n",
    "driver.close()\n",
    "print('Chrome Close')"
   ]
  },
  {
   "cell_type": "code",
   "execution_count": 22,
   "id": "32c5e0a6",
   "metadata": {},
   "outputs": [],
   "source": [
    "#Queries needed \n",
    "\n",
    "CSST_queries = ['CSST_Dollar Exposure_SD_TC','CSST_PnL_SD_TC']\n",
    "\n",
    "queries = CSST_queries"
   ]
  },
  {
   "cell_type": "code",
   "execution_count": 23,
   "id": "9f20517b",
   "metadata": {},
   "outputs": [
    {
     "name": "stdout",
     "output_type": "stream",
     "text": [
      "Server status:CSST_Dollar Exposure_SD_TC 200\n",
      "Server status:CSST_PnL_SD_TC 200\n"
     ]
    }
   ],
   "source": [
    "#Download one by one the Queries and put the data into a df\n",
    "dict_df = {}\n",
    "\n",
    "for queries_names in queries:\n",
    "    url_1 = \"https://cargill-prod-aer.fisglobal.com//\"\n",
    "    # url_1 = \"https://cargill-uat-aer.fisglobal.com//\"\n",
    "    url_2 = '/AdaptivFusionInvestigationService/api/Calculations/RiskService/Calculate/Results/{}'.format(queries_names)\n",
    "    myUrl = url_1 + url_2\n",
    "    head = {'Authorization': 'Bearer {}'.format(token)}\n",
    "\n",
    "    response = requests.get(myUrl, headers=head, verify=True)\n",
    "    #print('Server status :',response.status_code)\n",
    "    print(f'Server status:{queries_names} {response.status_code}')\n",
    "    \n",
    "    result = str(response.content, 'utf-8')\n",
    "    data = StringIO(result)\n",
    "    data_df = pd.read_csv(data)\n",
    "     \n",
    "    dict_df[queries_names] = data_df"
   ]
  },
  {
   "cell_type": "code",
   "execution_count": 24,
   "id": "483f5c3f",
   "metadata": {},
   "outputs": [
    {
     "name": "stdout",
     "output_type": "stream",
     "text": [
      "Dollar Exposure TC Saved\n"
     ]
    }
   ],
   "source": [
    "#Saving Dollar Exposure TC df as .csv file\n",
    "dollar_exposure_tc = dict_df['CSST_Dollar Exposure_SD_TC']\n",
    "dollar_exposure_tc.to_csv(Dollar_Exposure_TC, index=False)\n",
    "print('Dollar Exposure TC Saved')"
   ]
  },
  {
   "cell_type": "code",
   "execution_count": 25,
   "id": "f49ea606",
   "metadata": {},
   "outputs": [
    {
     "name": "stdout",
     "output_type": "stream",
     "text": [
      "PnL TC Saved\n"
     ]
    }
   ],
   "source": [
    "#Saving Dollar Exposure TC df as .csv file\n",
    "pnl_tc = dict_df['CSST_PnL_SD_TC']\n",
    "pnl_tc.to_csv(PnL_TC, index=False)\n",
    "print('PnL TC Saved')"
   ]
  },
  {
   "cell_type": "code",
   "execution_count": null,
   "id": "6199d1e9",
   "metadata": {},
   "outputs": [],
   "source": []
  }
 ],
 "metadata": {
  "kernelspec": {
   "display_name": "Python 3",
   "language": "python",
   "name": "python3"
  },
  "language_info": {
   "codemirror_mode": {
    "name": "ipython",
    "version": 3
   },
   "file_extension": ".py",
   "mimetype": "text/x-python",
   "name": "python",
   "nbconvert_exporter": "python",
   "pygments_lexer": "ipython3",
   "version": "3.8.8"
  }
 },
 "nbformat": 4,
 "nbformat_minor": 5
}
