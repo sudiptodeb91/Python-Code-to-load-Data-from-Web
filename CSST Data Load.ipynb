{
 "cells": [
  {
   "cell_type": "code",
   "execution_count": 38,
   "id": "0c959349",
   "metadata": {},
   "outputs": [],
   "source": [
    "#Importing needed libraries\n",
    "#import cx_Oracle\n",
    "import pandas as pd\n",
    "#import pyodbc\n",
    "#from datetime import datetime, timedelta, date\n",
    "import requests\n",
    "#import json\n",
    "import os\n",
    "from io import StringIO\n",
    "import urllib.request as urllib2\n",
    "\n",
    "import selenium\n",
    "import getpass\n",
    "from selenium.webdriver.support.wait import WebDriverWait\n",
    "from selenium import webdriver\n",
    "from selenium.webdriver.support import expected_conditions as EC\n",
    "from selenium.webdriver.common.by import By \n",
    "\n",
    "import win32com.client\n",
    "\n",
    "#pd.set_option('display.max_columns', 30)\n",
    "#pd.set_option('display.max_rows', 1000)\n",
    "#pd.set_option('display.float_format', '{:.4f}'.format)"
   ]
  },
  {
   "cell_type": "code",
   "execution_count": 39,
   "id": "bb4d6476",
   "metadata": {},
   "outputs": [
    {
     "data": {
      "text/plain": [
       "'s830227'"
      ]
     },
     "execution_count": 39,
     "metadata": {},
     "output_type": "execute_result"
    }
   ],
   "source": [
    "#Detecting user\n",
    "user =  os.getlogin()\n",
    "user"
   ]
  },
  {
   "cell_type": "code",
   "execution_count": 40,
   "id": "6c59144a",
   "metadata": {},
   "outputs": [
    {
     "name": "stdout",
     "output_type": "stream",
     "text": [
      "········\n"
     ]
    }
   ],
   "source": [
    "#Detecting user mail (last user log in into Outlook) + asking DS password\n",
    "outlook = win32com.client.Dispatch('outlook.application')\n",
    "mapi = outlook.GetNamespace(\"MAPI\")\n",
    "\n",
    "for account in mapi.Accounts:\n",
    "    email_account = account.DeliveryStore.DisplayName\n",
    "email_account\n",
    "mail_password = getpass.getpass()"
   ]
  },
  {
   "cell_type": "code",
   "execution_count": 41,
   "id": "dff14636",
   "metadata": {
    "scrolled": true
   },
   "outputs": [],
   "source": [
    "#Paths\n",
    "Dollar_Exposure_TC = \"C:\\\\Users\\\\\" + user + \"\\\\Cargill Inc\\\\RMG Risk Engine - CSST Data\\\\CSST_Dollar Exposure_SD_TC.csv\"\n",
    "PnL_TC = \"C:\\\\Users\\\\\" + user + \"\\\\Cargill Inc\\\\RMG Risk Engine - CSST Data\\\\CSST_PnL_SD_TC.csv\"\n",
    "VaR_Limit = \"C:\\\\Users\\\\\" + user + \"\\\\Cargill Inc\\\\RMG Risk Engine - CSST Data\\\\CSST_VaR Limit_SD.csv\"\n",
    "CBOT_VaR_Limit = \"C:\\\\Users\\\\\" + user + \"\\\\Cargill Inc\\\\RMG Risk Engine - CSST Data\\\\CSST_CBOT VaR Limit_SD.csv\"\n",
    "Regional_VaR_Limits = \"C:\\\\Users\\\\\" + user + \"\\\\Cargill Inc\\\\RMG Risk Engine - CSST Data\\\\CSST_Regional VaR Limits_SD.csv\"\n",
    "Oil_Protein_Sugar_VaR_Limit = \"C:\\\\Users\\\\\" + user + \"\\\\Cargill Inc\\\\RMG Risk Engine - CSST Data\\\\CSST_Oil,Protein,Sugar VaR Limit_SD.csv\"\n",
    "Ethanol_VaR_Limit = \"C:\\\\Users\\\\\" + user + \"\\\\Cargill Inc\\\\RMG Risk Engine - CSST Data\\\\CSST_Ethanol VaR Limit_SD.csv\"\n",
    "Dollar_Gamma_Limit = \"C:\\\\Users\\\\\" + user + \"\\\\Cargill Inc\\\\RMG Risk Engine - CSST Data\\\\CSST_Dollar Gamma Limit_SD.csv\"\n",
    "Stress_TC = \"C:\\\\Users\\\\\" + user + \"\\\\Cargill Inc\\\\RMG Risk Engine - CSST Data\\\\CSST_Stress_SD_TC.csv\"\n",
    "Options = \"C:\\\\Users\\\\\" + user + \"\\\\Cargill Inc\\\\RMG Risk Engine - CSST Data\\\\CSST_Options_SD.csv\"\n",
    "Test_CSST_VaR_1 = \"C:\\\\Users\\\\\" + user + \"\\\\Cargill Inc\\\\RMG Risk Engine - CSST Data\\\\test_CSST_VaR_1_SD.csv\"\n",
    "Test_CSST_VaR_2 = \"C:\\\\Users\\\\\" + user + \"\\\\Cargill Inc\\\\RMG Risk Engine - CSST Data\\\\test_CSST_VaR_2_SD.csv\"\n",
    "Test_CSST_VaR_3 = \"C:\\\\Users\\\\\" + user + \"\\\\Cargill Inc\\\\RMG Risk Engine - CSST Data\\\\test_CSST_VaR_3_SD.csv\"\n",
    "Test_CSST_VaR_4 = \"C:\\\\Users\\\\\" + user + \"\\\\Cargill Inc\\\\RMG Risk Engine - CSST Data\\\\test_CSST_VaR_4_SD.csv\"\n",
    "Test_CSST_VaR_5 = \"C:\\\\Users\\\\\" + user + \"\\\\Cargill Inc\\\\RMG Risk Engine - CSST Data\\\\test_CSST_VaR_5_SD.csv\"\n",
    "Test_CSST_VaR_6 = \"C:\\\\Users\\\\\" + user + \"\\\\Cargill Inc\\\\RMG Risk Engine - CSST Data\\\\test_CSST_VaR_6_SD.csv\"\n",
    "VaR = \"C:\\\\Users\\\\\" + user + \"\\\\Cargill Inc\\\\RMG Risk Engine - CSST Data\\\\CSST_VaR_SD.csv\"\n",
    "CBOT_Drawdown_TC = \"C:\\\\Users\\\\\" + user + \"\\\\Cargill Inc\\\\RMG Risk Engine - CSST Data\\\\CSST_CBOT Drawdown_SD_TC.csv\"\n",
    "Oil_Protein_Sugar_Drawdown_TC = \"C:\\\\Users\\\\\" + user + \"\\\\Cargill Inc\\\\RMG Risk Engine - CSST Data\\\\CSST_Oil,Protein,Sugar Drawdown_SD_TC.csv\"\n",
    "Regional_Drawdown_Limits_TC = \"C:\\\\Users\\\\\" + user + \"\\\\Cargill Inc\\\\RMG Risk Engine - CSST Data\\\\CSST_Regional Drawdown Limits_SD_TC.csv\"\n",
    "Ethanol_Drawdown_Limit_TC = \"C:\\\\Users\\\\\" + user + \"\\\\Cargill Inc\\\\RMG Risk Engine - CSST Data\\\\CSST_Ethanol Drawdown Limit_SD_TC.csv\"\n",
    "PnL_Flag_Limit_TC = \"C:\\\\Users\\\\\" + user + \"\\\\Cargill Inc\\\\RMG Risk Engine - CSST Data\\\\CSST_PnL Flag Limit_SD_TC.csv\"\n",
    "Drawdown_Limit_TC = \"C:\\\\Users\\\\\" + user + \"\\\\Cargill Inc\\\\RMG Risk Engine - CSST Data\\\\CSST_Drawdown Limit_SD_TC.csv\"\n",
    "Vega_Scaled_Limit = \"C:\\\\Users\\\\\" + user + \"\\\\Cargill Inc\\\\RMG Risk Engine - CSST Data\\\\CSST_Vega Scaled Limit_SD.csv\"\n",
    "Dollar_Exposure_Limit = \"C:\\\\Users\\\\\" + user + \"\\\\Cargill Inc\\\\RMG Risk Engine - CSST Data\\\\CSST_Dollar Exposure Limit_SD.csv\"\n",
    "Correlated_Stress_Limit = \"C:\\\\Users\\\\\" + user + \"\\\\Cargill Inc\\\\RMG Risk Engine - CSST Data\\\\CSST_Correlated Stress Limit_SD.csv\"\n",
    "CSST_1 = \"C:\\\\Users\\\\\" + user + \"\\\\Cargill Inc\\\\RMG Risk Engine - CSST Data\\\\CSST-1.csv\"\n",
    "CSST_2 = \"C:\\\\Users\\\\\" + user + \"\\\\Cargill Inc\\\\RMG Risk Engine - CSST Data\\\\CSST-2.csv\"\n",
    "CSST_3 = \"C:\\\\Users\\\\\" + user + \"\\\\Cargill Inc\\\\RMG Risk Engine - CSST Data\\\\CSST-3.csv\"\n",
    "CSST_4 = \"C:\\\\Users\\\\\" + user + \"\\\\Cargill Inc\\\\RMG Risk Engine - CSST Data\\\\CSST-4.csv\""
   ]
  },
  {
   "cell_type": "code",
   "execution_count": 42,
   "id": "d544304f",
   "metadata": {},
   "outputs": [
    {
     "name": "stdout",
     "output_type": "stream",
     "text": [
      "Microsoft Log In\n",
      "Authorizing\n",
      "Authorized\n",
      "Token acquired\n",
      "eyJhbGciOiJSUzI1NiIsImtpZCI6IkJEQTFCODVBMzBCNTdDQjc3OEFBODE5NDQ5NUYzMjIxRDhFQjdGRkUiLCJ0eXAiOiJKV1QiLCJ4NXQiOiJ2YUc0V2pDMWZMZDRxb0dVU1Y4eUlkanJmXzQifQ.eyJuYmYiOjE2NTczMDQ4MjMsImV4cCI6MTY1NzMwODQyMywiaXNzIjoiaHR0cHM6Ly9jYXJnaWxsLXByb2QtYWVyLmZpc2dsb2JhbC5jb20vYWRhcHRpdmF1dGhlbnRpY2F0aW9uc2VydmljZSIsImF1ZCI6WyJodHRwczovL2NhcmdpbGwtcHJvZC1hZXIuZmlzZ2xvYmFsLmNvbS9hZGFwdGl2YXV0aGVudGljYXRpb25zZXJ2aWNlL3Jlc291cmNlcyIsImFwaSJdLCJjbGllbnRfaWQiOiJDYXJnaWxsU0FNTCIsInN1YiI6IlNVRElQVE9fREVCQENSR0wtVEhJUkRQQVJUWS5DT00iLCJhdXRoX3RpbWUiOjE2NTczMDQ4MjEsImlkcCI6Imh0dHBzOi8vc3RzLndpbmRvd3MubmV0LzU3MzY4YzIxLWI4Y2YtNDJjZi1iZDBiLTQzZWNkNGJjNjJhZS8iLCJzY29wZSI6WyJvcGVuaWQiLCJwcm9maWxlIiwiYXBpIiwib2ZmbGluZV9hY2Nlc3MiXX0.pEYpWzxAy7yV6WWpTchT2NUEKsrjc5naGzFmZTWAO-40z94igR2rmxcb7jBOdiTk_G2jHIFaSxyF-5C5EMYzWOB6taFzTTSkfFk3duLkJU6d6fMfjlmqJNgpxyfjbGSEqZqWbvS4mbffVsgVI8hxJRJe4CZ__2GaBHCXfuuStBnZHcaF5ghvYLu8PTlun3jlq6LldG4_CHZWHtmE5PimKgE3pG63B35iiX9YOMFTUyyJjK2IARykXovU9_OxpuO_WFVs-Pj88RzaBlSUs7LvnM8E1kCnO7o_GAvccH6xuIIhCWI9hltzGZYVLM6XW962oAKjRHdUD2JFZOTtxVDIEw\n",
      "Closing Chrome\n",
      "Chrome Close\n"
     ]
    }
   ],
   "source": [
    "#Open Chrome and log in into Risk Engine to extract token\n",
    "\n",
    "def login(user, passwd):\n",
    "    #Ids of the buttons userName, Password, Next button\n",
    "    un_field = (By.ID, \"i0116\")\n",
    "    pw_field = (By.ID, \"i0118\")\n",
    "    next_button = (By.ID, \"idSIButton9\")\n",
    "\n",
    "    #Wait till the userName field is available then send the userName\n",
    "    WebDriverWait(driver, 20).until(EC.presence_of_element_located(un_field)).send_keys(user)\n",
    "\n",
    "    #click on the Next button\n",
    "    WebDriverWait(driver, 20).until(EC.element_to_be_clickable(next_button)).click()\n",
    "\n",
    "    #Wait till the userName field is available then send the userName\n",
    "    WebDriverWait(driver, 20).until(EC.element_to_be_clickable(pw_field)).send_keys(passwd)\n",
    "\n",
    "    #click on the Login button, has the same ID as the next button.\n",
    "    WebDriverWait(driver, 20).until(EC.element_to_be_clickable(next_button)).click()\n",
    "\n",
    "    #click on the Login button, has the same ID as the next button.\n",
    "    WebDriverWait(driver, 20).until(EC.element_to_be_clickable(next_button)).click()\n",
    "    \n",
    "    #Wait till the url is the dashboard\n",
    "    WebDriverWait(driver, 20).until(EC.url_to_be(\"https://cargill-prod-aer.fisglobal.com/riskui/#/dashboard/home\"))\n",
    "    return driver\n",
    "\n",
    "driver = webdriver.Chrome()\n",
    "driver.get('https://cargill-prod-aer.fisglobal.com/riskui')\n",
    "page = driver.page_source\n",
    "print(\"Microsoft Log In\")\n",
    "wait = WebDriverWait(driver, 10000).until(EC.url_contains(\"https://login.microsoftonline.com/\"))\n",
    "try:\n",
    "    print('Authorizing')\n",
    "    login(email_account, mail_password)\n",
    "except Exception as error:\n",
    "    print('Error', error)\n",
    "else:\n",
    "    print('Authorized')\n",
    "token = driver.execute_script(\"return window.sessionStorage.getItem('access_token');\")\n",
    "print(\"Token acquired\")\n",
    "print(token)\n",
    "print('Closing Chrome')\n",
    "driver.close()\n",
    "print('Chrome Close')"
   ]
  },
  {
   "cell_type": "code",
   "execution_count": 43,
   "id": "32c5e0a6",
   "metadata": {},
   "outputs": [],
   "source": [
    "#Queries needed \n",
    "\n",
    "CSST_queries = ['CSST_Dollar Exposure_SD_TC','CSST_PnL_SD_TC','CSST_VaR Limit_SD','CSST_CBOT VaR Limit_SD','CSST_Regional VaR Limits_SD',\n",
    "'CSST_Oil,Protein,Sugar VaR Limit_SD','CSST_Ethanol VaR Limit_SD','CSST_Dollar Gamma Limit_SD','CSST_Stress_SD_TC',\n",
    "'CSST_Options_SD','test_CSST_VaR_1_SD','test_CSST_VaR_2_SD','test_CSST_VaR_3_SD','test_CSST_VaR_4_SD','test_CSST_VaR_5_SD',\n",
    "'test_CSST_VaR_6_SD','CSST_VaR_SD','CSST_CBOT Drawdown_SD_TC','CSST_Oil,Protein,Sugar Drawdown_SD_TC',\n",
    "                'CSST_Regional Drawdown Limits_SD_TC','CSST_Ethanol Drawdown Limit_SD_TC','CSST_PnL Flag Limit_SD_TC',\n",
    "'CSST_Drawdown Limit_SD_TC','CSST_Vega Scaled Limit_SD','CSST_Dollar Exposure Limit_SD','CSST_Correlated Stress Limit_SD',\n",
    "               'CSST-1','CSST-2','CSST-3','CSST-4']\n",
    "\n",
    "queries = CSST_queries"
   ]
  },
  {
   "cell_type": "code",
   "execution_count": 44,
   "id": "9f20517b",
   "metadata": {},
   "outputs": [
    {
     "name": "stdout",
     "output_type": "stream",
     "text": [
      "Server status:CSST_Dollar Exposure_SD_TC 200\n",
      "Server status:CSST_PnL_SD_TC 200\n",
      "Server status:CSST_VaR Limit_SD 200\n",
      "Server status:CSST_CBOT VaR Limit_SD 200\n",
      "Server status:CSST_Regional VaR Limits_SD 200\n",
      "Server status:CSST_Oil,Protein,Sugar VaR Limit_SD 200\n",
      "Server status:CSST_Ethanol VaR Limit_SD 200\n",
      "Server status:CSST_Dollar Gamma Limit_SD 200\n",
      "Server status:CSST_Stress_SD_TC 200\n",
      "Server status:CSST_Options_SD 200\n",
      "Server status:test_CSST_VaR_1_SD 200\n",
      "Server status:test_CSST_VaR_2_SD 200\n",
      "Server status:test_CSST_VaR_3_SD 200\n",
      "Server status:test_CSST_VaR_4_SD 200\n",
      "Server status:test_CSST_VaR_5_SD 200\n",
      "Server status:test_CSST_VaR_6_SD 200\n",
      "Server status:CSST_VaR_SD 200\n",
      "Server status:CSST_CBOT Drawdown_SD_TC 200\n",
      "Server status:CSST_Oil,Protein,Sugar Drawdown_SD_TC 200\n",
      "Server status:CSST_Regional Drawdown Limits_SD_TC 200\n",
      "Server status:CSST_Ethanol Drawdown Limit_SD_TC 200\n",
      "Server status:CSST_PnL Flag Limit_SD_TC 200\n",
      "Server status:CSST_Drawdown Limit_SD_TC 200\n",
      "Server status:CSST_Vega Scaled Limit_SD 200\n",
      "Server status:CSST_Dollar Exposure Limit_SD 200\n",
      "Server status:CSST_Correlated Stress Limit_SD 200\n",
      "Server status:CSST-1 200\n",
      "Server status:CSST-2 200\n",
      "Server status:CSST-3 200\n",
      "Server status:CSST-4 200\n"
     ]
    }
   ],
   "source": [
    "#Download one by one the Queries and put the data into a df\n",
    "dict_df = {}\n",
    "\n",
    "for queries_names in queries:\n",
    "    url_1 = \"https://cargill-prod-aer.fisglobal.com//\"\n",
    "    # url_1 = \"https://cargill-uat-aer.fisglobal.com//\"\n",
    "    url_2 = '/AdaptivFusionInvestigationService/api/Calculations/RiskService/Calculate/Results/{}'.format(queries_names)\n",
    "    myUrl = url_1 + url_2\n",
    "    head = {'Authorization': 'Bearer {}'.format(token)}\n",
    "\n",
    "    response = requests.get(myUrl, headers=head, verify=True)\n",
    "    #print('Server status :',response.status_code)\n",
    "    print(f'Server status:{queries_names} {response.status_code}')\n",
    "    \n",
    "    result = str(response.content, 'utf-8')\n",
    "    data = StringIO(result)\n",
    "    data_df = pd.read_csv(data)\n",
    "     \n",
    "    dict_df[queries_names] = data_df"
   ]
  },
  {
   "cell_type": "code",
   "execution_count": 45,
   "id": "483f5c3f",
   "metadata": {},
   "outputs": [
    {
     "name": "stdout",
     "output_type": "stream",
     "text": [
      "Dollar Exposure TC Saved\n"
     ]
    }
   ],
   "source": [
    "#Saving Dollar Exposure TC df as .csv file\n",
    "dollar_exposure_tc = dict_df['CSST_Dollar Exposure_SD_TC']\n",
    "dollar_exposure_tc.to_csv(Dollar_Exposure_TC, index=False)\n",
    "print('Dollar Exposure TC Saved')"
   ]
  },
  {
   "cell_type": "code",
   "execution_count": 46,
   "id": "f49ea606",
   "metadata": {},
   "outputs": [
    {
     "name": "stdout",
     "output_type": "stream",
     "text": [
      "PnL TC Saved\n"
     ]
    }
   ],
   "source": [
    "#Saving Dollar Exposure TC df as .csv file\n",
    "pnl_tc = dict_df['CSST_PnL_SD_TC']\n",
    "pnl_tc.to_csv(PnL_TC, index=False)\n",
    "print('PnL TC Saved')"
   ]
  },
  {
   "cell_type": "code",
   "execution_count": 47,
   "id": "6199d1e9",
   "metadata": {},
   "outputs": [
    {
     "name": "stdout",
     "output_type": "stream",
     "text": [
      "VaR Limit Saved\n"
     ]
    }
   ],
   "source": [
    "#Saving VaR Limit df as .csv file\n",
    "var_limit = dict_df['CSST_VaR Limit_SD']\n",
    "var_limit.to_csv(VaR_Limit, index=False)\n",
    "print('VaR Limit Saved')"
   ]
  },
  {
   "cell_type": "code",
   "execution_count": 48,
   "id": "03c76608",
   "metadata": {},
   "outputs": [
    {
     "name": "stdout",
     "output_type": "stream",
     "text": [
      "CBOT VaR Limit Saved\n"
     ]
    }
   ],
   "source": [
    "#Saving CBOT VaR Limit df as .csv file\n",
    "cbot_var_limit = dict_df['CSST_CBOT VaR Limit_SD']\n",
    "cbot_var_limit.to_csv(CBOT_VaR_Limit, index=False)\n",
    "print('CBOT VaR Limit Saved')"
   ]
  },
  {
   "cell_type": "code",
   "execution_count": 49,
   "id": "73218a7c",
   "metadata": {},
   "outputs": [
    {
     "name": "stdout",
     "output_type": "stream",
     "text": [
      "Regional VaR Limits Saved\n"
     ]
    }
   ],
   "source": [
    "#Saving Regional VaR Limits df as .csv file\n",
    "regional_var_limits = dict_df['CSST_Regional VaR Limits_SD']\n",
    "regional_var_limits.to_csv(Regional_VaR_Limits, index=False)\n",
    "print('Regional VaR Limits Saved')"
   ]
  },
  {
   "cell_type": "code",
   "execution_count": 50,
   "id": "3f4f66ed",
   "metadata": {},
   "outputs": [
    {
     "name": "stdout",
     "output_type": "stream",
     "text": [
      "Oil,Protein,Sugar VaR Limit Saved\n"
     ]
    }
   ],
   "source": [
    "#Saving Oil,Protein,Sugar VaR Limit df as .csv file\n",
    "oil_protein_sugar_var_limit = dict_df['CSST_Oil,Protein,Sugar VaR Limit_SD']\n",
    "oil_protein_sugar_var_limit.to_csv(Oil_Protein_Sugar_VaR_Limit, index=False)\n",
    "print('Oil,Protein,Sugar VaR Limit Saved')"
   ]
  },
  {
   "cell_type": "code",
   "execution_count": 51,
   "id": "c1ff6158",
   "metadata": {},
   "outputs": [
    {
     "name": "stdout",
     "output_type": "stream",
     "text": [
      "Ethanol VaR Limit Saved\n"
     ]
    }
   ],
   "source": [
    "#Saving Ethanol VaR Limit df as .csv file\n",
    "ethanol_var_limit = dict_df['CSST_Ethanol VaR Limit_SD']\n",
    "ethanol_var_limit.to_csv(Ethanol_VaR_Limit, index=False)\n",
    "print('Ethanol VaR Limit Saved')"
   ]
  },
  {
   "cell_type": "code",
   "execution_count": 52,
   "id": "77b60b08",
   "metadata": {},
   "outputs": [
    {
     "name": "stdout",
     "output_type": "stream",
     "text": [
      "Dollar Gamma Limit Saved\n"
     ]
    }
   ],
   "source": [
    "#Saving Dollar Gamma Limit df as .csv file\n",
    "dollar_gamma_limit = dict_df['CSST_Dollar Gamma Limit_SD']\n",
    "dollar_gamma_limit.to_csv(Dollar_Gamma_Limit, index=False)\n",
    "print('Dollar Gamma Limit Saved')"
   ]
  },
  {
   "cell_type": "code",
   "execution_count": 53,
   "id": "c38f4535",
   "metadata": {},
   "outputs": [
    {
     "name": "stdout",
     "output_type": "stream",
     "text": [
      "Stress TC Saved\n"
     ]
    }
   ],
   "source": [
    "#Saving Stress TC df as .csv file\n",
    "stress_tc = dict_df['CSST_Stress_SD_TC']\n",
    "stress_tc.to_csv(Stress_TC, index=False)\n",
    "print('Stress TC Saved')"
   ]
  },
  {
   "cell_type": "code",
   "execution_count": 54,
   "id": "0812a57d",
   "metadata": {},
   "outputs": [
    {
     "name": "stdout",
     "output_type": "stream",
     "text": [
      "Options Saved\n"
     ]
    }
   ],
   "source": [
    "#Saving Options df as .csv file\n",
    "options = dict_df['CSST_Options_SD']\n",
    "options.to_csv(Options, index=False)\n",
    "print('Options Saved')"
   ]
  },
  {
   "cell_type": "code",
   "execution_count": 55,
   "id": "c14a855c",
   "metadata": {},
   "outputs": [
    {
     "name": "stdout",
     "output_type": "stream",
     "text": [
      "test_CSST_VaR_1 Saved\n"
     ]
    }
   ],
   "source": [
    "#Saving test_CSST_VaR_1 df as .csv file\n",
    "test_CSST_VaR_1 = dict_df['test_CSST_VaR_1_SD']\n",
    "test_CSST_VaR_1.to_csv(Test_CSST_VaR_1, index=False)\n",
    "print('test_CSST_VaR_1 Saved')"
   ]
  },
  {
   "cell_type": "code",
   "execution_count": 56,
   "id": "fa4d7e6b",
   "metadata": {},
   "outputs": [
    {
     "name": "stdout",
     "output_type": "stream",
     "text": [
      "test_CSST_VaR_2 Saved\n"
     ]
    }
   ],
   "source": [
    "#Saving test_CSST_VaR_2 df as .csv file\n",
    "test_CSST_VaR_2 = dict_df['test_CSST_VaR_2_SD']\n",
    "test_CSST_VaR_2.to_csv(Test_CSST_VaR_2, index=False)\n",
    "print('test_CSST_VaR_2 Saved')"
   ]
  },
  {
   "cell_type": "code",
   "execution_count": 57,
   "id": "017d180d",
   "metadata": {},
   "outputs": [
    {
     "name": "stdout",
     "output_type": "stream",
     "text": [
      "test_CSST_VaR_3 Saved\n"
     ]
    }
   ],
   "source": [
    "#Saving test_CSST_VaR_3 df as .csv file\n",
    "test_CSST_VaR_3 = dict_df['test_CSST_VaR_3_SD']\n",
    "test_CSST_VaR_3.to_csv(Test_CSST_VaR_3, index=False)\n",
    "print('test_CSST_VaR_3 Saved')"
   ]
  },
  {
   "cell_type": "code",
   "execution_count": 58,
   "id": "d21c9d86",
   "metadata": {},
   "outputs": [
    {
     "name": "stdout",
     "output_type": "stream",
     "text": [
      "test_CSST_VaR_4 Saved\n"
     ]
    }
   ],
   "source": [
    "#Saving test_CSST_VaR_4 df as .csv file\n",
    "test_CSST_VaR_4 = dict_df['test_CSST_VaR_4_SD']\n",
    "test_CSST_VaR_4.to_csv(Test_CSST_VaR_4, index=False)\n",
    "print('test_CSST_VaR_4 Saved')"
   ]
  },
  {
   "cell_type": "code",
   "execution_count": 59,
   "id": "60a5c488",
   "metadata": {},
   "outputs": [
    {
     "name": "stdout",
     "output_type": "stream",
     "text": [
      "test_CSST_VaR_5 Saved\n"
     ]
    }
   ],
   "source": [
    "#Saving test_CSST_VaR_5 df as .csv file\n",
    "test_CSST_VaR_5 = dict_df['test_CSST_VaR_5_SD']\n",
    "test_CSST_VaR_5.to_csv(Test_CSST_VaR_5, index=False)\n",
    "print('test_CSST_VaR_5 Saved')"
   ]
  },
  {
   "cell_type": "code",
   "execution_count": 60,
   "id": "d3eb63e0",
   "metadata": {},
   "outputs": [
    {
     "name": "stdout",
     "output_type": "stream",
     "text": [
      "test_CSST_VaR_6 Saved\n"
     ]
    }
   ],
   "source": [
    "#Saving test_CSST_VaR_6 df as .csv file\n",
    "test_CSST_VaR_6 = dict_df['test_CSST_VaR_6_SD']\n",
    "test_CSST_VaR_6.to_csv(Test_CSST_VaR_6, index=False)\n",
    "print('test_CSST_VaR_6 Saved')"
   ]
  },
  {
   "cell_type": "code",
   "execution_count": 61,
   "id": "8baaee5b",
   "metadata": {},
   "outputs": [
    {
     "name": "stdout",
     "output_type": "stream",
     "text": [
      "VaR Saved\n"
     ]
    }
   ],
   "source": [
    "#Saving VaR df as .csv file\n",
    "var = dict_df['CSST_VaR_SD']\n",
    "var.to_csv(VaR, index=False)\n",
    "print('VaR Saved')"
   ]
  },
  {
   "cell_type": "code",
   "execution_count": 62,
   "id": "af9e3312",
   "metadata": {},
   "outputs": [
    {
     "name": "stdout",
     "output_type": "stream",
     "text": [
      "CBOT Drawdown TC Saved\n"
     ]
    }
   ],
   "source": [
    "#Saving CBOT Drawdown TC df as .csv file\n",
    "cbot_drawdown_tc = dict_df['CSST_CBOT Drawdown_SD_TC']\n",
    "cbot_drawdown_tc.to_csv(CBOT_Drawdown_TC, index=False)\n",
    "print('CBOT Drawdown TC Saved')"
   ]
  },
  {
   "cell_type": "code",
   "execution_count": 63,
   "id": "ad0165af",
   "metadata": {},
   "outputs": [
    {
     "name": "stdout",
     "output_type": "stream",
     "text": [
      "Oil,Protein,Sugar Drawdown TC Saved\n"
     ]
    }
   ],
   "source": [
    "#Saving Oil,Protein,Sugar Drawdown TC df as .csv file\n",
    "oil_protein_sugar_drawdown_tc = dict_df['CSST_Oil,Protein,Sugar Drawdown_SD_TC']\n",
    "oil_protein_sugar_drawdown_tc.to_csv(Oil_Protein_Sugar_Drawdown_TC, index=False)\n",
    "print('Oil,Protein,Sugar Drawdown TC Saved')"
   ]
  },
  {
   "cell_type": "code",
   "execution_count": 64,
   "id": "d0bbd369",
   "metadata": {},
   "outputs": [
    {
     "name": "stdout",
     "output_type": "stream",
     "text": [
      "Regional Drawdown Limits TC Saved\n"
     ]
    }
   ],
   "source": [
    "#Saving Regional Drawdown Limits TC df as .csv file\n",
    "regional_drawdown_limits_tc = dict_df['CSST_Regional Drawdown Limits_SD_TC']\n",
    "regional_drawdown_limits_tc.to_csv(Regional_Drawdown_Limits_TC, index=False)\n",
    "print('Regional Drawdown Limits TC Saved')"
   ]
  },
  {
   "cell_type": "code",
   "execution_count": 65,
   "id": "b822ba04",
   "metadata": {},
   "outputs": [
    {
     "name": "stdout",
     "output_type": "stream",
     "text": [
      "Ethanol Drawdown Limit TC Saved\n"
     ]
    }
   ],
   "source": [
    "#Saving Ethanol Drawdown Limit TC df as .csv file\n",
    "ethanol_drawdown_limit_tc = dict_df['CSST_Ethanol Drawdown Limit_SD_TC']\n",
    "ethanol_drawdown_limit_tc.to_csv(Ethanol_Drawdown_Limit_TC, index=False)\n",
    "print('Ethanol Drawdown Limit TC Saved')"
   ]
  },
  {
   "cell_type": "code",
   "execution_count": 66,
   "id": "b04a0e55",
   "metadata": {},
   "outputs": [
    {
     "name": "stdout",
     "output_type": "stream",
     "text": [
      "PnL Flag Limit TC Saved\n"
     ]
    }
   ],
   "source": [
    "#Saving PnL Flag Limit TC df as .csv file\n",
    "pnl_flag_limit_tc = dict_df['CSST_PnL Flag Limit_SD_TC']\n",
    "pnl_flag_limit_tc.to_csv(PnL_Flag_Limit_TC, index=False)\n",
    "print('PnL Flag Limit TC Saved')"
   ]
  },
  {
   "cell_type": "code",
   "execution_count": 67,
   "id": "2efd6ca5",
   "metadata": {},
   "outputs": [
    {
     "name": "stdout",
     "output_type": "stream",
     "text": [
      "Drawdown Limit TC Saved\n"
     ]
    }
   ],
   "source": [
    "#Saving Drawdown Limit TC df as .csv file\n",
    "drawdown_limit_tc = dict_df['CSST_Drawdown Limit_SD_TC']\n",
    "drawdown_limit_tc.to_csv(Drawdown_Limit_TC, index=False)\n",
    "print('Drawdown Limit TC Saved')"
   ]
  },
  {
   "cell_type": "code",
   "execution_count": 68,
   "id": "fe0b38fb",
   "metadata": {},
   "outputs": [
    {
     "name": "stdout",
     "output_type": "stream",
     "text": [
      "Vega Scaled Limit Saved\n"
     ]
    }
   ],
   "source": [
    "#Saving Vega Scaled Limit df as .csv file\n",
    "vega_scaled_limit = dict_df['CSST_Vega Scaled Limit_SD']\n",
    "vega_scaled_limit.to_csv(Vega_Scaled_Limit, index=False)\n",
    "print('Vega Scaled Limit Saved')"
   ]
  },
  {
   "cell_type": "code",
   "execution_count": 69,
   "id": "57742f08",
   "metadata": {},
   "outputs": [
    {
     "name": "stdout",
     "output_type": "stream",
     "text": [
      "Dollar Exposure Limit Saved\n"
     ]
    }
   ],
   "source": [
    "#Saving Dollar Exposure Limit df as .csv file\n",
    "dollar_exposure_limit = dict_df['CSST_Dollar Exposure Limit_SD']\n",
    "dollar_exposure_limit.to_csv(Dollar_Exposure_Limit, index=False)\n",
    "print('Dollar Exposure Limit Saved')"
   ]
  },
  {
   "cell_type": "code",
   "execution_count": 70,
   "id": "87ae03c0",
   "metadata": {},
   "outputs": [
    {
     "name": "stdout",
     "output_type": "stream",
     "text": [
      "Correlated Stress Limit Saved\n"
     ]
    }
   ],
   "source": [
    "#Saving Correlated Stress Limit df as .csv file\n",
    "correlated_stress_limit = dict_df['CSST_Correlated Stress Limit_SD']\n",
    "correlated_stress_limit.to_csv(Correlated_Stress_Limit, index=False)\n",
    "print('Correlated Stress Limit Saved')"
   ]
  },
  {
   "cell_type": "code",
   "execution_count": 71,
   "id": "191ef858",
   "metadata": {},
   "outputs": [
    {
     "name": "stdout",
     "output_type": "stream",
     "text": [
      "CSST-1 Saved\n"
     ]
    }
   ],
   "source": [
    "#Saving CSST-1 df as .csv file\n",
    "csst_1 = dict_df['CSST-1']\n",
    "csst_1.to_csv(CSST_1, index=False)\n",
    "print('CSST-1 Saved')"
   ]
  },
  {
   "cell_type": "code",
   "execution_count": 72,
   "id": "6db51bff",
   "metadata": {},
   "outputs": [
    {
     "name": "stdout",
     "output_type": "stream",
     "text": [
      "CSST-2 Saved\n"
     ]
    }
   ],
   "source": [
    "#Saving CSST-2 df as .csv file\n",
    "csst_2 = dict_df['CSST-2']\n",
    "csst_2.to_csv(CSST_2, index=False)\n",
    "print('CSST-2 Saved')"
   ]
  },
  {
   "cell_type": "code",
   "execution_count": 73,
   "id": "cfe274f0",
   "metadata": {},
   "outputs": [
    {
     "name": "stdout",
     "output_type": "stream",
     "text": [
      "CSST-3 Saved\n"
     ]
    }
   ],
   "source": [
    "#Saving CSST-3 df as .csv file\n",
    "csst_3 = dict_df['CSST-3']\n",
    "csst_3.to_csv(CSST_3, index=False)\n",
    "print('CSST-3 Saved')"
   ]
  },
  {
   "cell_type": "code",
   "execution_count": 74,
   "id": "df769b6d",
   "metadata": {},
   "outputs": [
    {
     "name": "stdout",
     "output_type": "stream",
     "text": [
      "CSST-4 Saved\n"
     ]
    }
   ],
   "source": [
    "#Saving CSST-4 df as .csv file\n",
    "csst_4 = dict_df['CSST-4']\n",
    "csst_4.to_csv(CSST_4, index=False)\n",
    "print('CSST-4 Saved')"
   ]
  },
  {
   "cell_type": "code",
   "execution_count": null,
   "id": "746e2623",
   "metadata": {},
   "outputs": [],
   "source": []
  }
 ],
 "metadata": {
  "kernelspec": {
   "display_name": "Python 3",
   "language": "python",
   "name": "python3"
  },
  "language_info": {
   "codemirror_mode": {
    "name": "ipython",
    "version": 3
   },
   "file_extension": ".py",
   "mimetype": "text/x-python",
   "name": "python",
   "nbconvert_exporter": "python",
   "pygments_lexer": "ipython3",
   "version": "3.8.8"
  }
 },
 "nbformat": 4,
 "nbformat_minor": 5
}
